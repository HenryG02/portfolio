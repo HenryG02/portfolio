{
  "nbformat": 4,
  "nbformat_minor": 0,
  "metadata": {
    "colab": {
      "provenance": []
    },
    "kernelspec": {
      "name": "python3",
      "display_name": "Python 3"
    },
    "language_info": {
      "name": "python"
    }
  },
  "cells": [
    {
      "cell_type": "markdown",
      "source": [
        "The goal of this project is to predict whether a customer with a set of characteristics will churn or not from our company (an Iranian telecom company). To accomplish this goal, the following steps will be taken:\n",
        "*   Data Importing\n",
        "*   Data Cleaning\n",
        "*   Exploratory Data Analysis\n",
        "*   Data Preprocessing\n",
        "*   Training and comparing machine learning models performance\n",
        "\n",
        "\n",
        "\n",
        "\n",
        "\n"
      ],
      "metadata": {
        "id": "uAzhFtsM8LMl"
      }
    },
    {
      "cell_type": "markdown",
      "source": [
        "# Data Importing"
      ],
      "metadata": {
        "id": "gVK0haXt9pnA"
      }
    },
    {
      "cell_type": "code",
      "execution_count": 3,
      "metadata": {
        "id": "7gIYuLqsfVy4"
      },
      "outputs": [],
      "source": [
        "# importing libraries\n",
        "import pandas as pd\n",
        "import numpy as np\n",
        "import matplotlib.pyplot as plt\n",
        "import seaborn as sns\n",
        "from sklearn.model_selection import train_test_split, cross_val_score, KFold\n",
        "from sklearn.preprocessing import StandardScaler\n",
        "from sklearn.metrics import f1_score\n",
        "from sklearn.linear_model import LogisticRegression\n",
        "from sklearn.ensemble import RandomForestClassifier\n",
        "from imblearn.combine import SMOTEENN\n",
        "from ucimlrepo import fetch_ucirepo"
      ]
    },
    {
      "cell_type": "code",
      "source": [
        "# fetch dataset from UCI Machine Learning Repository\n",
        "churn_data = fetch_ucirepo(id=563)\n",
        "\n",
        "# importing data as pandas DataFrames (X containing the features and y containing the labels)\n",
        "X = churn_data.data.features\n",
        "y = churn_data.data.targets"
      ],
      "metadata": {
        "id": "-kmw70i7foTW"
      },
      "execution_count": 4,
      "outputs": []
    },
    {
      "cell_type": "code",
      "source": [
        "# metadata to understand better the dataset\n",
        "print(churn_data.metadata)"
      ],
      "metadata": {
        "colab": {
          "base_uri": "https://localhost:8080/"
        },
        "id": "ZxfJzeb7wbqa",
        "outputId": "49a33299-e7c0-457a-b07c-74ef840b58a6"
      },
      "execution_count": 5,
      "outputs": [
        {
          "output_type": "stream",
          "name": "stdout",
          "text": [
            "{'uci_id': 563, 'name': 'Iranian Churn', 'repository_url': 'https://archive.ics.uci.edu/dataset/563/iranian+churn+dataset', 'data_url': 'https://archive.ics.uci.edu/static/public/563/data.csv', 'abstract': \"This dataset is randomly collected from an Iranian telecom company's database over a period of 12 months.\", 'area': 'Business', 'tasks': ['Classification', 'Regression'], 'characteristics': ['Multivariate'], 'num_instances': 3150, 'num_features': 13, 'feature_types': ['Integer'], 'demographics': ['Age'], 'target_col': ['Churn'], 'index_col': None, 'has_missing_values': 'no', 'missing_values_symbol': None, 'year_of_dataset_creation': 2020, 'last_updated': 'Sat Mar 09 2024', 'dataset_doi': '10.24432/C5JW3Z', 'creators': [], 'intro_paper': None, 'additional_info': {'summary': 'This dataset is randomly collected from an Iranian telecom companyâ€™s database over a period of 12 months. A total of 3150 rows of data, each representing a customer, bear information for 13 columns. The attributes that are in this dataset\\r\\nare call failures, frequency of SMS, number of complaints, number of distinct calls, subscription length, age group, the charge amount, type of service, seconds of use, status, frequency of use, and Customer Value.\\r\\n\\r\\nAll of the attributes except for attribute churn is the aggregated data of the first 9 months. The churn labels are the state of the customers at the end of 12 months. The three months is the designated planning gap.', 'purpose': None, 'funded_by': None, 'instances_represent': None, 'recommended_data_splits': None, 'sensitive_data': None, 'preprocessing_description': None, 'variable_info': 'Anonymous Customer ID\\r\\nCall Failures: number of call failures\\r\\nComplains: binary (0: No complaint, 1: complaint)\\r\\nSubscription Length: total months of subscription\\r\\nCharge Amount: Ordinal attribute (0: lowest amount, 9: highest amount)\\r\\nSeconds of Use: total seconds of calls\\r\\nFrequency of use: total number of calls\\r\\nFrequency of SMS: total number of text messages\\r\\nDistinct Called Numbers: total number of distinct phone calls \\r\\nAge Group: ordinal attribute (1: younger age, 5: older age)\\r\\nTariff Plan: binary (1: Pay as you go, 2: contractual)\\r\\nStatus: binary (1: active, 2: non-active)\\r\\nChurn: binary (1: churn, 0: non-churn) - Class label\\r\\nCustomer Value: The calculated value of customer', 'citation': None}}\n"
          ]
        }
      ]
    },
    {
      "cell_type": "code",
      "source": [
        "# variable information\n",
        "print(churn_data.variables)"
      ],
      "metadata": {
        "colab": {
          "base_uri": "https://localhost:8080/"
        },
        "id": "ikxVQIv0wzhG",
        "outputId": "a74e211f-889d-4e56-84e9-fe6005f6a75b"
      },
      "execution_count": 6,
      "outputs": [
        {
          "output_type": "stream",
          "name": "stdout",
          "text": [
            "                       name     role        type demographic description  \\\n",
            "0             Call  Failure  Feature     Integer        None        None   \n",
            "1                 Complains  Feature      Binary        None        None   \n",
            "2      Subscription  Length  Feature     Integer        None        None   \n",
            "3            Charge  Amount  Feature     Integer        None        None   \n",
            "4            Seconds of Use  Feature     Integer        None        None   \n",
            "5          Frequency of use  Feature     Integer        None        None   \n",
            "6          Frequency of SMS  Feature     Integer        None        None   \n",
            "7   Distinct Called Numbers  Feature     Integer        None        None   \n",
            "8                 Age Group  Feature     Integer         Age        None   \n",
            "9               Tariff Plan  Feature     Integer        None        None   \n",
            "10                   Status  Feature      Binary        None        None   \n",
            "11                      Age  Feature     Integer         Age        None   \n",
            "12           Customer Value  Feature  Continuous        None        None   \n",
            "13                    Churn   Target      Binary        None        None   \n",
            "\n",
            "   units missing_values  \n",
            "0   None             no  \n",
            "1   None             no  \n",
            "2   None             no  \n",
            "3   None             no  \n",
            "4   None             no  \n",
            "5   None             no  \n",
            "6   None             no  \n",
            "7   None             no  \n",
            "8   None             no  \n",
            "9   None             no  \n",
            "10  None             no  \n",
            "11  None             no  \n",
            "12  None             no  \n",
            "13  None             no  \n"
          ]
        }
      ]
    },
    {
      "cell_type": "code",
      "source": [
        "# understanding shape of the dataset\n",
        "print(X.shape, y.shape)"
      ],
      "metadata": {
        "colab": {
          "base_uri": "https://localhost:8080/"
        },
        "id": "f-oPAjkdfzVb",
        "outputId": "2d7c2511-a4ac-40e0-c8aa-70ae185d887a"
      },
      "execution_count": 7,
      "outputs": [
        {
          "output_type": "stream",
          "name": "stdout",
          "text": [
            "(3150, 13) (3150, 1)\n"
          ]
        }
      ]
    },
    {
      "cell_type": "markdown",
      "source": [
        "We verify that our dataset has 3150 observations, each representing a client, and 14 columns, being 13 features and 1 label"
      ],
      "metadata": {
        "id": "2RzYZe_LgTDs"
      }
    },
    {
      "cell_type": "markdown",
      "source": [
        "# Data Cleaning"
      ],
      "metadata": {
        "id": "mtHHnOt39xau"
      }
    },
    {
      "cell_type": "markdown",
      "source": [
        "From the variable information command used two code blocks above, we identify that there are no missing values to be dealed with. After that, it is important to verify what information the different columns aim to display. We can do that by looking at the dataset documentation available in https://archive.ics.uci.edu/dataset/563/iranian+churn+dataset\n",
        "\n",
        "By looking at the additional information provided by the dataset's website, two issues come to mind:\n",
        "*   There is only an 'age group' column in the dataset's description and additional information section, but in the variables table and by inspecting the actual dataframe columns, we identify two age-related columns: **age** and **age group**. Which of them should we use?\n",
        "*   There are also a **status** and a **churn** columns. We can suppose, reasonably, that a client that is inactive has already churned, so both columns would be measuring the same thing. Again, which column should we use?\n",
        "\n",
        "For the age-related columns issue, we'll use the **age** column, since it provides greater granularity and is already a numeric variable (in contrast, age group is a categorical ordinal variable). About the status and churn columns, we'll drop the first and maintain the second columns, since the **churn** column is already framed as the label and having a column with this information in the features dataset would not make sense. To finish the data cleaning section, we'll also rename the columns so that they have names that more clearly inform what they are about\n",
        "\n"
      ],
      "metadata": {
        "id": "1_m31sgy_l9w"
      }
    },
    {
      "cell_type": "code",
      "source": [
        "# dropping Age Group column\n",
        "X = X.drop(['Age Group', 'Status'], axis=1)"
      ],
      "metadata": {
        "id": "ImKcSwq2ATXa"
      },
      "execution_count": 8,
      "outputs": []
    },
    {
      "cell_type": "code",
      "source": [
        "# renaming columns\n",
        "X.columns = ['num_call_failures', 'has_complaint', 'sub_length_months',\n",
        "              'charge_tier', 'total_call_seconds', 'total_num_calls',\n",
        "              'total_num_sms', 'distinct_call_num', 'type_plan', 'age', 'customer_value']"
      ],
      "metadata": {
        "id": "VuVRihqpAcVl"
      },
      "execution_count": 9,
      "outputs": []
    },
    {
      "cell_type": "markdown",
      "source": [
        "# Exploratory Data Analysis"
      ],
      "metadata": {
        "id": "VT9Rc-xPCCpm"
      }
    },
    {
      "cell_type": "code",
      "source": [
        "# getting summary statistics\n",
        "X.describe()"
      ],
      "metadata": {
        "colab": {
          "base_uri": "https://localhost:8080/",
          "height": 320
        },
        "id": "QZXaxmVtCFl7",
        "outputId": "4ecf0847-6598-48a5-9b8f-b243265ca3fd"
      },
      "execution_count": 10,
      "outputs": [
        {
          "output_type": "execute_result",
          "data": {
            "text/plain": [
              "       num_call_failures  has_complaint  sub_length_months  charge_tier  \\\n",
              "count        3150.000000    3150.000000        3150.000000  3150.000000   \n",
              "mean            7.627937       0.076508          32.541905     0.942857   \n",
              "std             7.263886       0.265851           8.573482     1.521072   \n",
              "min             0.000000       0.000000           3.000000     0.000000   \n",
              "25%             1.000000       0.000000          30.000000     0.000000   \n",
              "50%             6.000000       0.000000          35.000000     0.000000   \n",
              "75%            12.000000       0.000000          38.000000     1.000000   \n",
              "max            36.000000       1.000000          47.000000    10.000000   \n",
              "\n",
              "       total_call_seconds  total_num_calls  total_num_sms  distinct_call_num  \\\n",
              "count         3150.000000      3150.000000    3150.000000        3150.000000   \n",
              "mean          4472.459683        69.460635      73.174921          23.509841   \n",
              "std           4197.908687        57.413308     112.237560          17.217337   \n",
              "min              0.000000         0.000000       0.000000           0.000000   \n",
              "25%           1391.250000        27.000000       6.000000          10.000000   \n",
              "50%           2990.000000        54.000000      21.000000          21.000000   \n",
              "75%           6478.250000        95.000000      87.000000          34.000000   \n",
              "max          17090.000000       255.000000     522.000000          97.000000   \n",
              "\n",
              "         type_plan          age  customer_value  \n",
              "count  3150.000000  3150.000000     3150.000000  \n",
              "mean      1.077778    30.998413      470.972916  \n",
              "std       0.267864     8.831095      517.015433  \n",
              "min       1.000000    15.000000        0.000000  \n",
              "25%       1.000000    25.000000      113.801250  \n",
              "50%       1.000000    30.000000      228.480000  \n",
              "75%       1.000000    30.000000      788.388750  \n",
              "max       2.000000    55.000000     2165.280000  "
            ],
            "text/html": [
              "\n",
              "  <div id=\"df-e043e981-9cb5-4233-a23b-4a75cbca0ddf\" class=\"colab-df-container\">\n",
              "    <div>\n",
              "<style scoped>\n",
              "    .dataframe tbody tr th:only-of-type {\n",
              "        vertical-align: middle;\n",
              "    }\n",
              "\n",
              "    .dataframe tbody tr th {\n",
              "        vertical-align: top;\n",
              "    }\n",
              "\n",
              "    .dataframe thead th {\n",
              "        text-align: right;\n",
              "    }\n",
              "</style>\n",
              "<table border=\"1\" class=\"dataframe\">\n",
              "  <thead>\n",
              "    <tr style=\"text-align: right;\">\n",
              "      <th></th>\n",
              "      <th>num_call_failures</th>\n",
              "      <th>has_complaint</th>\n",
              "      <th>sub_length_months</th>\n",
              "      <th>charge_tier</th>\n",
              "      <th>total_call_seconds</th>\n",
              "      <th>total_num_calls</th>\n",
              "      <th>total_num_sms</th>\n",
              "      <th>distinct_call_num</th>\n",
              "      <th>type_plan</th>\n",
              "      <th>age</th>\n",
              "      <th>customer_value</th>\n",
              "    </tr>\n",
              "  </thead>\n",
              "  <tbody>\n",
              "    <tr>\n",
              "      <th>count</th>\n",
              "      <td>3150.000000</td>\n",
              "      <td>3150.000000</td>\n",
              "      <td>3150.000000</td>\n",
              "      <td>3150.000000</td>\n",
              "      <td>3150.000000</td>\n",
              "      <td>3150.000000</td>\n",
              "      <td>3150.000000</td>\n",
              "      <td>3150.000000</td>\n",
              "      <td>3150.000000</td>\n",
              "      <td>3150.000000</td>\n",
              "      <td>3150.000000</td>\n",
              "    </tr>\n",
              "    <tr>\n",
              "      <th>mean</th>\n",
              "      <td>7.627937</td>\n",
              "      <td>0.076508</td>\n",
              "      <td>32.541905</td>\n",
              "      <td>0.942857</td>\n",
              "      <td>4472.459683</td>\n",
              "      <td>69.460635</td>\n",
              "      <td>73.174921</td>\n",
              "      <td>23.509841</td>\n",
              "      <td>1.077778</td>\n",
              "      <td>30.998413</td>\n",
              "      <td>470.972916</td>\n",
              "    </tr>\n",
              "    <tr>\n",
              "      <th>std</th>\n",
              "      <td>7.263886</td>\n",
              "      <td>0.265851</td>\n",
              "      <td>8.573482</td>\n",
              "      <td>1.521072</td>\n",
              "      <td>4197.908687</td>\n",
              "      <td>57.413308</td>\n",
              "      <td>112.237560</td>\n",
              "      <td>17.217337</td>\n",
              "      <td>0.267864</td>\n",
              "      <td>8.831095</td>\n",
              "      <td>517.015433</td>\n",
              "    </tr>\n",
              "    <tr>\n",
              "      <th>min</th>\n",
              "      <td>0.000000</td>\n",
              "      <td>0.000000</td>\n",
              "      <td>3.000000</td>\n",
              "      <td>0.000000</td>\n",
              "      <td>0.000000</td>\n",
              "      <td>0.000000</td>\n",
              "      <td>0.000000</td>\n",
              "      <td>0.000000</td>\n",
              "      <td>1.000000</td>\n",
              "      <td>15.000000</td>\n",
              "      <td>0.000000</td>\n",
              "    </tr>\n",
              "    <tr>\n",
              "      <th>25%</th>\n",
              "      <td>1.000000</td>\n",
              "      <td>0.000000</td>\n",
              "      <td>30.000000</td>\n",
              "      <td>0.000000</td>\n",
              "      <td>1391.250000</td>\n",
              "      <td>27.000000</td>\n",
              "      <td>6.000000</td>\n",
              "      <td>10.000000</td>\n",
              "      <td>1.000000</td>\n",
              "      <td>25.000000</td>\n",
              "      <td>113.801250</td>\n",
              "    </tr>\n",
              "    <tr>\n",
              "      <th>50%</th>\n",
              "      <td>6.000000</td>\n",
              "      <td>0.000000</td>\n",
              "      <td>35.000000</td>\n",
              "      <td>0.000000</td>\n",
              "      <td>2990.000000</td>\n",
              "      <td>54.000000</td>\n",
              "      <td>21.000000</td>\n",
              "      <td>21.000000</td>\n",
              "      <td>1.000000</td>\n",
              "      <td>30.000000</td>\n",
              "      <td>228.480000</td>\n",
              "    </tr>\n",
              "    <tr>\n",
              "      <th>75%</th>\n",
              "      <td>12.000000</td>\n",
              "      <td>0.000000</td>\n",
              "      <td>38.000000</td>\n",
              "      <td>1.000000</td>\n",
              "      <td>6478.250000</td>\n",
              "      <td>95.000000</td>\n",
              "      <td>87.000000</td>\n",
              "      <td>34.000000</td>\n",
              "      <td>1.000000</td>\n",
              "      <td>30.000000</td>\n",
              "      <td>788.388750</td>\n",
              "    </tr>\n",
              "    <tr>\n",
              "      <th>max</th>\n",
              "      <td>36.000000</td>\n",
              "      <td>1.000000</td>\n",
              "      <td>47.000000</td>\n",
              "      <td>10.000000</td>\n",
              "      <td>17090.000000</td>\n",
              "      <td>255.000000</td>\n",
              "      <td>522.000000</td>\n",
              "      <td>97.000000</td>\n",
              "      <td>2.000000</td>\n",
              "      <td>55.000000</td>\n",
              "      <td>2165.280000</td>\n",
              "    </tr>\n",
              "  </tbody>\n",
              "</table>\n",
              "</div>\n",
              "    <div class=\"colab-df-buttons\">\n",
              "\n",
              "  <div class=\"colab-df-container\">\n",
              "    <button class=\"colab-df-convert\" onclick=\"convertToInteractive('df-e043e981-9cb5-4233-a23b-4a75cbca0ddf')\"\n",
              "            title=\"Convert this dataframe to an interactive table.\"\n",
              "            style=\"display:none;\">\n",
              "\n",
              "  <svg xmlns=\"http://www.w3.org/2000/svg\" height=\"24px\" viewBox=\"0 -960 960 960\">\n",
              "    <path d=\"M120-120v-720h720v720H120Zm60-500h600v-160H180v160Zm220 220h160v-160H400v160Zm0 220h160v-160H400v160ZM180-400h160v-160H180v160Zm440 0h160v-160H620v160ZM180-180h160v-160H180v160Zm440 0h160v-160H620v160Z\"/>\n",
              "  </svg>\n",
              "    </button>\n",
              "\n",
              "  <style>\n",
              "    .colab-df-container {\n",
              "      display:flex;\n",
              "      gap: 12px;\n",
              "    }\n",
              "\n",
              "    .colab-df-convert {\n",
              "      background-color: #E8F0FE;\n",
              "      border: none;\n",
              "      border-radius: 50%;\n",
              "      cursor: pointer;\n",
              "      display: none;\n",
              "      fill: #1967D2;\n",
              "      height: 32px;\n",
              "      padding: 0 0 0 0;\n",
              "      width: 32px;\n",
              "    }\n",
              "\n",
              "    .colab-df-convert:hover {\n",
              "      background-color: #E2EBFA;\n",
              "      box-shadow: 0px 1px 2px rgba(60, 64, 67, 0.3), 0px 1px 3px 1px rgba(60, 64, 67, 0.15);\n",
              "      fill: #174EA6;\n",
              "    }\n",
              "\n",
              "    .colab-df-buttons div {\n",
              "      margin-bottom: 4px;\n",
              "    }\n",
              "\n",
              "    [theme=dark] .colab-df-convert {\n",
              "      background-color: #3B4455;\n",
              "      fill: #D2E3FC;\n",
              "    }\n",
              "\n",
              "    [theme=dark] .colab-df-convert:hover {\n",
              "      background-color: #434B5C;\n",
              "      box-shadow: 0px 1px 3px 1px rgba(0, 0, 0, 0.15);\n",
              "      filter: drop-shadow(0px 1px 2px rgba(0, 0, 0, 0.3));\n",
              "      fill: #FFFFFF;\n",
              "    }\n",
              "  </style>\n",
              "\n",
              "    <script>\n",
              "      const buttonEl =\n",
              "        document.querySelector('#df-e043e981-9cb5-4233-a23b-4a75cbca0ddf button.colab-df-convert');\n",
              "      buttonEl.style.display =\n",
              "        google.colab.kernel.accessAllowed ? 'block' : 'none';\n",
              "\n",
              "      async function convertToInteractive(key) {\n",
              "        const element = document.querySelector('#df-e043e981-9cb5-4233-a23b-4a75cbca0ddf');\n",
              "        const dataTable =\n",
              "          await google.colab.kernel.invokeFunction('convertToInteractive',\n",
              "                                                    [key], {});\n",
              "        if (!dataTable) return;\n",
              "\n",
              "        const docLinkHtml = 'Like what you see? Visit the ' +\n",
              "          '<a target=\"_blank\" href=https://colab.research.google.com/notebooks/data_table.ipynb>data table notebook</a>'\n",
              "          + ' to learn more about interactive tables.';\n",
              "        element.innerHTML = '';\n",
              "        dataTable['output_type'] = 'display_data';\n",
              "        await google.colab.output.renderOutput(dataTable, element);\n",
              "        const docLink = document.createElement('div');\n",
              "        docLink.innerHTML = docLinkHtml;\n",
              "        element.appendChild(docLink);\n",
              "      }\n",
              "    </script>\n",
              "  </div>\n",
              "\n",
              "\n",
              "<div id=\"df-46584e21-de18-4b3f-b0eb-c5dd290b7ce8\">\n",
              "  <button class=\"colab-df-quickchart\" onclick=\"quickchart('df-46584e21-de18-4b3f-b0eb-c5dd290b7ce8')\"\n",
              "            title=\"Suggest charts\"\n",
              "            style=\"display:none;\">\n",
              "\n",
              "<svg xmlns=\"http://www.w3.org/2000/svg\" height=\"24px\"viewBox=\"0 0 24 24\"\n",
              "     width=\"24px\">\n",
              "    <g>\n",
              "        <path d=\"M19 3H5c-1.1 0-2 .9-2 2v14c0 1.1.9 2 2 2h14c1.1 0 2-.9 2-2V5c0-1.1-.9-2-2-2zM9 17H7v-7h2v7zm4 0h-2V7h2v10zm4 0h-2v-4h2v4z\"/>\n",
              "    </g>\n",
              "</svg>\n",
              "  </button>\n",
              "\n",
              "<style>\n",
              "  .colab-df-quickchart {\n",
              "      --bg-color: #E8F0FE;\n",
              "      --fill-color: #1967D2;\n",
              "      --hover-bg-color: #E2EBFA;\n",
              "      --hover-fill-color: #174EA6;\n",
              "      --disabled-fill-color: #AAA;\n",
              "      --disabled-bg-color: #DDD;\n",
              "  }\n",
              "\n",
              "  [theme=dark] .colab-df-quickchart {\n",
              "      --bg-color: #3B4455;\n",
              "      --fill-color: #D2E3FC;\n",
              "      --hover-bg-color: #434B5C;\n",
              "      --hover-fill-color: #FFFFFF;\n",
              "      --disabled-bg-color: #3B4455;\n",
              "      --disabled-fill-color: #666;\n",
              "  }\n",
              "\n",
              "  .colab-df-quickchart {\n",
              "    background-color: var(--bg-color);\n",
              "    border: none;\n",
              "    border-radius: 50%;\n",
              "    cursor: pointer;\n",
              "    display: none;\n",
              "    fill: var(--fill-color);\n",
              "    height: 32px;\n",
              "    padding: 0;\n",
              "    width: 32px;\n",
              "  }\n",
              "\n",
              "  .colab-df-quickchart:hover {\n",
              "    background-color: var(--hover-bg-color);\n",
              "    box-shadow: 0 1px 2px rgba(60, 64, 67, 0.3), 0 1px 3px 1px rgba(60, 64, 67, 0.15);\n",
              "    fill: var(--button-hover-fill-color);\n",
              "  }\n",
              "\n",
              "  .colab-df-quickchart-complete:disabled,\n",
              "  .colab-df-quickchart-complete:disabled:hover {\n",
              "    background-color: var(--disabled-bg-color);\n",
              "    fill: var(--disabled-fill-color);\n",
              "    box-shadow: none;\n",
              "  }\n",
              "\n",
              "  .colab-df-spinner {\n",
              "    border: 2px solid var(--fill-color);\n",
              "    border-color: transparent;\n",
              "    border-bottom-color: var(--fill-color);\n",
              "    animation:\n",
              "      spin 1s steps(1) infinite;\n",
              "  }\n",
              "\n",
              "  @keyframes spin {\n",
              "    0% {\n",
              "      border-color: transparent;\n",
              "      border-bottom-color: var(--fill-color);\n",
              "      border-left-color: var(--fill-color);\n",
              "    }\n",
              "    20% {\n",
              "      border-color: transparent;\n",
              "      border-left-color: var(--fill-color);\n",
              "      border-top-color: var(--fill-color);\n",
              "    }\n",
              "    30% {\n",
              "      border-color: transparent;\n",
              "      border-left-color: var(--fill-color);\n",
              "      border-top-color: var(--fill-color);\n",
              "      border-right-color: var(--fill-color);\n",
              "    }\n",
              "    40% {\n",
              "      border-color: transparent;\n",
              "      border-right-color: var(--fill-color);\n",
              "      border-top-color: var(--fill-color);\n",
              "    }\n",
              "    60% {\n",
              "      border-color: transparent;\n",
              "      border-right-color: var(--fill-color);\n",
              "    }\n",
              "    80% {\n",
              "      border-color: transparent;\n",
              "      border-right-color: var(--fill-color);\n",
              "      border-bottom-color: var(--fill-color);\n",
              "    }\n",
              "    90% {\n",
              "      border-color: transparent;\n",
              "      border-bottom-color: var(--fill-color);\n",
              "    }\n",
              "  }\n",
              "</style>\n",
              "\n",
              "  <script>\n",
              "    async function quickchart(key) {\n",
              "      const quickchartButtonEl =\n",
              "        document.querySelector('#' + key + ' button');\n",
              "      quickchartButtonEl.disabled = true;  // To prevent multiple clicks.\n",
              "      quickchartButtonEl.classList.add('colab-df-spinner');\n",
              "      try {\n",
              "        const charts = await google.colab.kernel.invokeFunction(\n",
              "            'suggestCharts', [key], {});\n",
              "      } catch (error) {\n",
              "        console.error('Error during call to suggestCharts:', error);\n",
              "      }\n",
              "      quickchartButtonEl.classList.remove('colab-df-spinner');\n",
              "      quickchartButtonEl.classList.add('colab-df-quickchart-complete');\n",
              "    }\n",
              "    (() => {\n",
              "      let quickchartButtonEl =\n",
              "        document.querySelector('#df-46584e21-de18-4b3f-b0eb-c5dd290b7ce8 button');\n",
              "      quickchartButtonEl.style.display =\n",
              "        google.colab.kernel.accessAllowed ? 'block' : 'none';\n",
              "    })();\n",
              "  </script>\n",
              "</div>\n",
              "\n",
              "    </div>\n",
              "  </div>\n"
            ],
            "application/vnd.google.colaboratory.intrinsic+json": {
              "type": "dataframe",
              "summary": "{\n  \"name\": \"X\",\n  \"rows\": 8,\n  \"fields\": [\n    {\n      \"column\": \"num_call_failures\",\n      \"properties\": {\n        \"dtype\": \"number\",\n        \"std\": 1110.220379102132,\n        \"min\": 0.0,\n        \"max\": 3150.0,\n        \"num_unique_values\": 8,\n        \"samples\": [\n          7.627936507936508,\n          6.0,\n          3150.0\n        ],\n        \"semantic_type\": \"\",\n        \"description\": \"\"\n      }\n    },\n    {\n      \"column\": \"has_complaint\",\n      \"properties\": {\n        \"dtype\": \"number\",\n        \"std\": 1113.6254335276267,\n        \"min\": 0.0,\n        \"max\": 3150.0,\n        \"num_unique_values\": 5,\n        \"samples\": [\n          0.07650793650793651,\n          1.0,\n          0.2658512916524658\n        ],\n        \"semantic_type\": \"\",\n        \"description\": \"\"\n      }\n    },\n    {\n      \"column\": \"sub_length_months\",\n      \"properties\": {\n        \"dtype\": \"number\",\n        \"std\": 1103.9882902530974,\n        \"min\": 3.0,\n        \"max\": 3150.0,\n        \"num_unique_values\": 8,\n        \"samples\": [\n          32.54190476190476,\n          35.0,\n          3150.0\n        ],\n        \"semantic_type\": \"\",\n        \"description\": \"\"\n      }\n    },\n    {\n      \"column\": \"charge_tier\",\n      \"properties\": {\n        \"dtype\": \"number\",\n        \"std\": 1113.0181745955701,\n        \"min\": 0.0,\n        \"max\": 3150.0,\n        \"num_unique_values\": 6,\n        \"samples\": [\n          3150.0,\n          0.9428571428571428,\n          10.0\n        ],\n        \"semantic_type\": \"\",\n        \"description\": \"\"\n      }\n    },\n    {\n      \"column\": \"total_call_seconds\",\n      \"properties\": {\n        \"dtype\": \"number\",\n        \"std\": 5274.656777131645,\n        \"min\": 0.0,\n        \"max\": 17090.0,\n        \"num_unique_values\": 8,\n        \"samples\": [\n          4472.459682539683,\n          2990.0,\n          3150.0\n        ],\n        \"semantic_type\": \"\",\n        \"description\": \"\"\n      }\n    },\n    {\n      \"column\": \"total_num_calls\",\n      \"properties\": {\n        \"dtype\": \"number\",\n        \"std\": 1088.2341476557249,\n        \"min\": 0.0,\n        \"max\": 3150.0,\n        \"num_unique_values\": 8,\n        \"samples\": [\n          69.46063492063492,\n          54.0,\n          3150.0\n        ],\n        \"semantic_type\": \"\",\n        \"description\": \"\"\n      }\n    },\n    {\n      \"column\": \"total_num_sms\",\n      \"properties\": {\n        \"dtype\": \"number\",\n        \"std\": 1085.585240629125,\n        \"min\": 0.0,\n        \"max\": 3150.0,\n        \"num_unique_values\": 8,\n        \"samples\": [\n          73.17492063492064,\n          21.0,\n          3150.0\n        ],\n        \"semantic_type\": \"\",\n        \"description\": \"\"\n      }\n    },\n    {\n      \"column\": \"distinct_call_num\",\n      \"properties\": {\n        \"dtype\": \"number\",\n        \"std\": 1103.847667252352,\n        \"min\": 0.0,\n        \"max\": 3150.0,\n        \"num_unique_values\": 8,\n        \"samples\": [\n          23.50984126984127,\n          21.0,\n          3150.0\n        ],\n        \"semantic_type\": \"\",\n        \"description\": \"\"\n      }\n    },\n    {\n      \"column\": \"type_plan\",\n      \"properties\": {\n        \"dtype\": \"number\",\n        \"std\": 1113.3222672687332,\n        \"min\": 0.26786409466733413,\n        \"max\": 3150.0,\n        \"num_unique_values\": 5,\n        \"samples\": [\n          1.0777777777777777,\n          2.0,\n          0.26786409466733413\n        ],\n        \"semantic_type\": \"\",\n        \"description\": \"\"\n      }\n    },\n    {\n      \"column\": \"age\",\n      \"properties\": {\n        \"dtype\": \"number\",\n        \"std\": 1103.936355241924,\n        \"min\": 8.831095499305055,\n        \"max\": 3150.0,\n        \"num_unique_values\": 7,\n        \"samples\": [\n          3150.0,\n          30.998412698412697,\n          30.0\n        ],\n        \"semantic_type\": \"\",\n        \"description\": \"\"\n      }\n    },\n    {\n      \"column\": \"customer_value\",\n      \"properties\": {\n        \"dtype\": \"number\",\n        \"std\": 1126.2351098228962,\n        \"min\": 0.0,\n        \"max\": 3150.0,\n        \"num_unique_values\": 8,\n        \"samples\": [\n          470.9729158730159,\n          228.48,\n          3150.0\n        ],\n        \"semantic_type\": \"\",\n        \"description\": \"\"\n      }\n    }\n  ]\n}"
            }
          },
          "metadata": {},
          "execution_count": 10
        }
      ]
    },
    {
      "cell_type": "markdown",
      "source": [
        "After calling the describe method, it's clear the necessity of standardizing the data. For example, column 'total_call_seconds' has a mean and median of 4,472 and 2,990, respectively. In contrast, all the other features are, at maximum, in the scale of 100s. This issue will be tackled on the preprocessing step"
      ],
      "metadata": {
        "id": "uY_4TEHkCbet"
      }
    },
    {
      "cell_type": "markdown",
      "source": [
        "Another point of attention is in regards of the possible redundancy of our dataset, since, for example, we have three columns of data about customer calls behavior. Are all three of them necessary or is it possible that they are only saying the same thing? Redundancy damages model performance and generalizability, so it's something to pay attention to."
      ],
      "metadata": {
        "id": "i0NMlgSU5yIO"
      }
    },
    {
      "cell_type": "markdown",
      "source": [
        "One of the easiest ways to identify redundancy is calculating the correlation between the features in the dataset. A high absolute correlation value between features is a indication of redundancy"
      ],
      "metadata": {
        "id": "73xknqlR65un"
      }
    },
    {
      "cell_type": "code",
      "source": [
        "# Plotting a correlation heatamap\n",
        "sns.heatmap(data=X.corr())\n",
        "plt.show()"
      ],
      "metadata": {
        "colab": {
          "base_uri": "https://localhost:8080/",
          "height": 556
        },
        "id": "kbEFoNBp7Uet",
        "outputId": "81c1843e-1022-4b24-de56-6976a010070a"
      },
      "execution_count": 11,
      "outputs": [
        {
          "output_type": "display_data",
          "data": {
            "text/plain": [
              "<Figure size 640x480 with 2 Axes>"
            ],
            "image/png": "[encoded data removed]"
          },
          "metadata": {}
        }
      ]
    },
    {
      "cell_type": "markdown",
      "source": [
        "Using the color scale on the right, we identify that there are no high negative correlations, since the scale stops at around -0.4. On the positive part of the scale, the brighter the color, the greater the correlation. We, indeed, see some high correlation between the customer calls behavior data! Let's filter the correlation coefficients that are greater than 0.7"
      ],
      "metadata": {
        "id": "O1Ds_N1W9BL-"
      }
    },
    {
      "cell_type": "code",
      "source": [
        "X.corr() > 0.7"
      ],
      "metadata": {
        "colab": {
          "base_uri": "https://localhost:8080/",
          "height": 414
        },
        "id": "2OuWsBs19ntv",
        "outputId": "e24d4984-b4ac-4e12-fbb5-4d7c1de251cb"
      },
      "execution_count": 12,
      "outputs": [
        {
          "output_type": "execute_result",
          "data": {
            "text/plain": [
              "                    num_call_failures  has_complaint  sub_length_months  \\\n",
              "num_call_failures                True          False              False   \n",
              "has_complaint                   False           True              False   \n",
              "sub_length_months               False          False               True   \n",
              "charge_tier                     False          False              False   \n",
              "total_call_seconds              False          False              False   \n",
              "total_num_calls                 False          False              False   \n",
              "total_num_sms                   False          False              False   \n",
              "distinct_call_num               False          False              False   \n",
              "type_plan                       False          False              False   \n",
              "age                             False          False              False   \n",
              "customer_value                  False          False              False   \n",
              "\n",
              "                    charge_tier  total_call_seconds  total_num_calls  \\\n",
              "num_call_failures         False               False            False   \n",
              "has_complaint             False               False            False   \n",
              "sub_length_months         False               False            False   \n",
              "charge_tier                True               False            False   \n",
              "total_call_seconds        False                True             True   \n",
              "total_num_calls           False                True             True   \n",
              "total_num_sms             False               False            False   \n",
              "distinct_call_num         False               False             True   \n",
              "type_plan                 False               False            False   \n",
              "age                       False               False            False   \n",
              "customer_value            False               False            False   \n",
              "\n",
              "                    total_num_sms  distinct_call_num  type_plan    age  \\\n",
              "num_call_failures           False              False      False  False   \n",
              "has_complaint               False              False      False  False   \n",
              "sub_length_months           False              False      False  False   \n",
              "charge_tier                 False              False      False  False   \n",
              "total_call_seconds          False              False      False  False   \n",
              "total_num_calls             False               True      False  False   \n",
              "total_num_sms                True              False      False  False   \n",
              "distinct_call_num           False               True      False  False   \n",
              "type_plan                   False              False       True  False   \n",
              "age                         False              False      False   True   \n",
              "customer_value               True              False      False  False   \n",
              "\n",
              "                    customer_value  \n",
              "num_call_failures            False  \n",
              "has_complaint                False  \n",
              "sub_length_months            False  \n",
              "charge_tier                  False  \n",
              "total_call_seconds           False  \n",
              "total_num_calls              False  \n",
              "total_num_sms                 True  \n",
              "distinct_call_num            False  \n",
              "type_plan                    False  \n",
              "age                          False  \n",
              "customer_value                True  "
            ],
            "text/html": [
              "\n",
              "  <div id=\"df-04985d67-3fba-4cd9-9100-6d1bda65fde0\" class=\"colab-df-container\">\n",
              "    <div>\n",
              "<style scoped>\n",
              "    .dataframe tbody tr th:only-of-type {\n",
              "        vertical-align: middle;\n",
              "    }\n",
              "\n",
              "    .dataframe tbody tr th {\n",
              "        vertical-align: top;\n",
              "    }\n",
              "\n",
              "    .dataframe thead th {\n",
              "        text-align: right;\n",
              "    }\n",
              "</style>\n",
              "<table border=\"1\" class=\"dataframe\">\n",
              "  <thead>\n",
              "    <tr style=\"text-align: right;\">\n",
              "      <th></th>\n",
              "      <th>num_call_failures</th>\n",
              "      <th>has_complaint</th>\n",
              "      <th>sub_length_months</th>\n",
              "      <th>charge_tier</th>\n",
              "      <th>total_call_seconds</th>\n",
              "      <th>total_num_calls</th>\n",
              "      <th>total_num_sms</th>\n",
              "      <th>distinct_call_num</th>\n",
              "      <th>type_plan</th>\n",
              "      <th>age</th>\n",
              "      <th>customer_value</th>\n",
              "    </tr>\n",
              "  </thead>\n",
              "  <tbody>\n",
              "    <tr>\n",
              "      <th>num_call_failures</th>\n",
              "      <td>True</td>\n",
              "      <td>False</td>\n",
              "      <td>False</td>\n",
              "      <td>False</td>\n",
              "      <td>False</td>\n",
              "      <td>False</td>\n",
              "      <td>False</td>\n",
              "      <td>False</td>\n",
              "      <td>False</td>\n",
              "      <td>False</td>\n",
              "      <td>False</td>\n",
              "    </tr>\n",
              "    <tr>\n",
              "      <th>has_complaint</th>\n",
              "      <td>False</td>\n",
              "      <td>True</td>\n",
              "      <td>False</td>\n",
              "      <td>False</td>\n",
              "      <td>False</td>\n",
              "      <td>False</td>\n",
              "      <td>False</td>\n",
              "      <td>False</td>\n",
              "      <td>False</td>\n",
              "      <td>False</td>\n",
              "      <td>False</td>\n",
              "    </tr>\n",
              "    <tr>\n",
              "      <th>sub_length_months</th>\n",
              "      <td>False</td>\n",
              "      <td>False</td>\n",
              "      <td>True</td>\n",
              "      <td>False</td>\n",
              "      <td>False</td>\n",
              "      <td>False</td>\n",
              "      <td>False</td>\n",
              "      <td>False</td>\n",
              "      <td>False</td>\n",
              "      <td>False</td>\n",
              "      <td>False</td>\n",
              "    </tr>\n",
              "    <tr>\n",
              "      <th>charge_tier</th>\n",
              "      <td>False</td>\n",
              "      <td>False</td>\n",
              "      <td>False</td>\n",
              "      <td>True</td>\n",
              "      <td>False</td>\n",
              "      <td>False</td>\n",
              "      <td>False</td>\n",
              "      <td>False</td>\n",
              "      <td>False</td>\n",
              "      <td>False</td>\n",
              "      <td>False</td>\n",
              "    </tr>\n",
              "    <tr>\n",
              "      <th>total_call_seconds</th>\n",
              "      <td>False</td>\n",
              "      <td>False</td>\n",
              "      <td>False</td>\n",
              "      <td>False</td>\n",
              "      <td>True</td>\n",
              "      <td>True</td>\n",
              "      <td>False</td>\n",
              "      <td>False</td>\n",
              "      <td>False</td>\n",
              "      <td>False</td>\n",
              "      <td>False</td>\n",
              "    </tr>\n",
              "    <tr>\n",
              "      <th>total_num_calls</th>\n",
              "      <td>False</td>\n",
              "      <td>False</td>\n",
              "      <td>False</td>\n",
              "      <td>False</td>\n",
              "      <td>True</td>\n",
              "      <td>True</td>\n",
              "      <td>False</td>\n",
              "      <td>True</td>\n",
              "      <td>False</td>\n",
              "      <td>False</td>\n",
              "      <td>False</td>\n",
              "    </tr>\n",
              "    <tr>\n",
              "      <th>total_num_sms</th>\n",
              "      <td>False</td>\n",
              "      <td>False</td>\n",
              "      <td>False</td>\n",
              "      <td>False</td>\n",
              "      <td>False</td>\n",
              "      <td>False</td>\n",
              "      <td>True</td>\n",
              "      <td>False</td>\n",
              "      <td>False</td>\n",
              "      <td>False</td>\n",
              "      <td>True</td>\n",
              "    </tr>\n",
              "    <tr>\n",
              "      <th>distinct_call_num</th>\n",
              "      <td>False</td>\n",
              "      <td>False</td>\n",
              "      <td>False</td>\n",
              "      <td>False</td>\n",
              "      <td>False</td>\n",
              "      <td>True</td>\n",
              "      <td>False</td>\n",
              "      <td>True</td>\n",
              "      <td>False</td>\n",
              "      <td>False</td>\n",
              "      <td>False</td>\n",
              "    </tr>\n",
              "    <tr>\n",
              "      <th>type_plan</th>\n",
              "      <td>False</td>\n",
              "      <td>False</td>\n",
              "      <td>False</td>\n",
              "      <td>False</td>\n",
              "      <td>False</td>\n",
              "      <td>False</td>\n",
              "      <td>False</td>\n",
              "      <td>False</td>\n",
              "      <td>True</td>\n",
              "      <td>False</td>\n",
              "      <td>False</td>\n",
              "    </tr>\n",
              "    <tr>\n",
              "      <th>age</th>\n",
              "      <td>False</td>\n",
              "      <td>False</td>\n",
              "      <td>False</td>\n",
              "      <td>False</td>\n",
              "      <td>False</td>\n",
              "      <td>False</td>\n",
              "      <td>False</td>\n",
              "      <td>False</td>\n",
              "      <td>False</td>\n",
              "      <td>True</td>\n",
              "      <td>False</td>\n",
              "    </tr>\n",
              "    <tr>\n",
              "      <th>customer_value</th>\n",
              "      <td>False</td>\n",
              "      <td>False</td>\n",
              "      <td>False</td>\n",
              "      <td>False</td>\n",
              "      <td>False</td>\n",
              "      <td>False</td>\n",
              "      <td>True</td>\n",
              "      <td>False</td>\n",
              "      <td>False</td>\n",
              "      <td>False</td>\n",
              "      <td>True</td>\n",
              "    </tr>\n",
              "  </tbody>\n",
              "</table>\n",
              "</div>\n",
              "    <div class=\"colab-df-buttons\">\n",
              "\n",
              "  <div class=\"colab-df-container\">\n",
              "    <button class=\"colab-df-convert\" onclick=\"convertToInteractive('df-04985d67-3fba-4cd9-9100-6d1bda65fde0')\"\n",
              "            title=\"Convert this dataframe to an interactive table.\"\n",
              "            style=\"display:none;\">\n",
              "\n",
              "  <svg xmlns=\"http://www.w3.org/2000/svg\" height=\"24px\" viewBox=\"0 -960 960 960\">\n",
              "    <path d=\"M120-120v-720h720v720H120Zm60-500h600v-160H180v160Zm220 220h160v-160H400v160Zm0 220h160v-160H400v160ZM180-400h160v-160H180v160Zm440 0h160v-160H620v160ZM180-180h160v-160H180v160Zm440 0h160v-160H620v160Z\"/>\n",
              "  </svg>\n",
              "    </button>\n",
              "\n",
              "  <style>\n",
              "    .colab-df-container {\n",
              "      display:flex;\n",
              "      gap: 12px;\n",
              "    }\n",
              "\n",
              "    .colab-df-convert {\n",
              "      background-color: #E8F0FE;\n",
              "      border: none;\n",
              "      border-radius: 50%;\n",
              "      cursor: pointer;\n",
              "      display: none;\n",
              "      fill: #1967D2;\n",
              "      height: 32px;\n",
              "      padding: 0 0 0 0;\n",
              "      width: 32px;\n",
              "    }\n",
              "\n",
              "    .colab-df-convert:hover {\n",
              "      background-color: #E2EBFA;\n",
              "      box-shadow: 0px 1px 2px rgba(60, 64, 67, 0.3), 0px 1px 3px 1px rgba(60, 64, 67, 0.15);\n",
              "      fill: #174EA6;\n",
              "    }\n",
              "\n",
              "    .colab-df-buttons div {\n",
              "      margin-bottom: 4px;\n",
              "    }\n",
              "\n",
              "    [theme=dark] .colab-df-convert {\n",
              "      background-color: #3B4455;\n",
              "      fill: #D2E3FC;\n",
              "    }\n",
              "\n",
              "    [theme=dark] .colab-df-convert:hover {\n",
              "      background-color: #434B5C;\n",
              "      box-shadow: 0px 1px 3px 1px rgba(0, 0, 0, 0.15);\n",
              "      filter: drop-shadow(0px 1px 2px rgba(0, 0, 0, 0.3));\n",
              "      fill: #FFFFFF;\n",
              "    }\n",
              "  </style>\n",
              "\n",
              "    <script>\n",
              "      const buttonEl =\n",
              "        document.querySelector('#df-04985d67-3fba-4cd9-9100-6d1bda65fde0 button.colab-df-convert');\n",
              "      buttonEl.style.display =\n",
              "        google.colab.kernel.accessAllowed ? 'block' : 'none';\n",
              "\n",
              "      async function convertToInteractive(key) {\n",
              "        const element = document.querySelector('#df-04985d67-3fba-4cd9-9100-6d1bda65fde0');\n",
              "        const dataTable =\n",
              "          await google.colab.kernel.invokeFunction('convertToInteractive',\n",
              "                                                    [key], {});\n",
              "        if (!dataTable) return;\n",
              "\n",
              "        const docLinkHtml = 'Like what you see? Visit the ' +\n",
              "          '<a target=\"_blank\" href=https://colab.research.google.com/notebooks/data_table.ipynb>data table notebook</a>'\n",
              "          + ' to learn more about interactive tables.';\n",
              "        element.innerHTML = '';\n",
              "        dataTable['output_type'] = 'display_data';\n",
              "        await google.colab.output.renderOutput(dataTable, element);\n",
              "        const docLink = document.createElement('div');\n",
              "        docLink.innerHTML = docLinkHtml;\n",
              "        element.appendChild(docLink);\n",
              "      }\n",
              "    </script>\n",
              "  </div>\n",
              "\n",
              "\n",
              "<div id=\"df-cb1d3e98-580f-4426-a05f-33a38764fad3\">\n",
              "  <button class=\"colab-df-quickchart\" onclick=\"quickchart('df-cb1d3e98-580f-4426-a05f-33a38764fad3')\"\n",
              "            title=\"Suggest charts\"\n",
              "            style=\"display:none;\">\n",
              "\n",
              "<svg xmlns=\"http://www.w3.org/2000/svg\" height=\"24px\"viewBox=\"0 0 24 24\"\n",
              "     width=\"24px\">\n",
              "    <g>\n",
              "        <path d=\"M19 3H5c-1.1 0-2 .9-2 2v14c0 1.1.9 2 2 2h14c1.1 0 2-.9 2-2V5c0-1.1-.9-2-2-2zM9 17H7v-7h2v7zm4 0h-2V7h2v10zm4 0h-2v-4h2v4z\"/>\n",
              "    </g>\n",
              "</svg>\n",
              "  </button>\n",
              "\n",
              "<style>\n",
              "  .colab-df-quickchart {\n",
              "      --bg-color: #E8F0FE;\n",
              "      --fill-color: #1967D2;\n",
              "      --hover-bg-color: #E2EBFA;\n",
              "      --hover-fill-color: #174EA6;\n",
              "      --disabled-fill-color: #AAA;\n",
              "      --disabled-bg-color: #DDD;\n",
              "  }\n",
              "\n",
              "  [theme=dark] .colab-df-quickchart {\n",
              "      --bg-color: #3B4455;\n",
              "      --fill-color: #D2E3FC;\n",
              "      --hover-bg-color: #434B5C;\n",
              "      --hover-fill-color: #FFFFFF;\n",
              "      --disabled-bg-color: #3B4455;\n",
              "      --disabled-fill-color: #666;\n",
              "  }\n",
              "\n",
              "  .colab-df-quickchart {\n",
              "    background-color: var(--bg-color);\n",
              "    border: none;\n",
              "    border-radius: 50%;\n",
              "    cursor: pointer;\n",
              "    display: none;\n",
              "    fill: var(--fill-color);\n",
              "    height: 32px;\n",
              "    padding: 0;\n",
              "    width: 32px;\n",
              "  }\n",
              "\n",
              "  .colab-df-quickchart:hover {\n",
              "    background-color: var(--hover-bg-color);\n",
              "    box-shadow: 0 1px 2px rgba(60, 64, 67, 0.3), 0 1px 3px 1px rgba(60, 64, 67, 0.15);\n",
              "    fill: var(--button-hover-fill-color);\n",
              "  }\n",
              "\n",
              "  .colab-df-quickchart-complete:disabled,\n",
              "  .colab-df-quickchart-complete:disabled:hover {\n",
              "    background-color: var(--disabled-bg-color);\n",
              "    fill: var(--disabled-fill-color);\n",
              "    box-shadow: none;\n",
              "  }\n",
              "\n",
              "  .colab-df-spinner {\n",
              "    border: 2px solid var(--fill-color);\n",
              "    border-color: transparent;\n",
              "    border-bottom-color: var(--fill-color);\n",
              "    animation:\n",
              "      spin 1s steps(1) infinite;\n",
              "  }\n",
              "\n",
              "  @keyframes spin {\n",
              "    0% {\n",
              "      border-color: transparent;\n",
              "      border-bottom-color: var(--fill-color);\n",
              "      border-left-color: var(--fill-color);\n",
              "    }\n",
              "    20% {\n",
              "      border-color: transparent;\n",
              "      border-left-color: var(--fill-color);\n",
              "      border-top-color: var(--fill-color);\n",
              "    }\n",
              "    30% {\n",
              "      border-color: transparent;\n",
              "      border-left-color: var(--fill-color);\n",
              "      border-top-color: var(--fill-color);\n",
              "      border-right-color: var(--fill-color);\n",
              "    }\n",
              "    40% {\n",
              "      border-color: transparent;\n",
              "      border-right-color: var(--fill-color);\n",
              "      border-top-color: var(--fill-color);\n",
              "    }\n",
              "    60% {\n",
              "      border-color: transparent;\n",
              "      border-right-color: var(--fill-color);\n",
              "    }\n",
              "    80% {\n",
              "      border-color: transparent;\n",
              "      border-right-color: var(--fill-color);\n",
              "      border-bottom-color: var(--fill-color);\n",
              "    }\n",
              "    90% {\n",
              "      border-color: transparent;\n",
              "      border-bottom-color: var(--fill-color);\n",
              "    }\n",
              "  }\n",
              "</style>\n",
              "\n",
              "  <script>\n",
              "    async function quickchart(key) {\n",
              "      const quickchartButtonEl =\n",
              "        document.querySelector('#' + key + ' button');\n",
              "      quickchartButtonEl.disabled = true;  // To prevent multiple clicks.\n",
              "      quickchartButtonEl.classList.add('colab-df-spinner');\n",
              "      try {\n",
              "        const charts = await google.colab.kernel.invokeFunction(\n",
              "            'suggestCharts', [key], {});\n",
              "      } catch (error) {\n",
              "        console.error('Error during call to suggestCharts:', error);\n",
              "      }\n",
              "      quickchartButtonEl.classList.remove('colab-df-spinner');\n",
              "      quickchartButtonEl.classList.add('colab-df-quickchart-complete');\n",
              "    }\n",
              "    (() => {\n",
              "      let quickchartButtonEl =\n",
              "        document.querySelector('#df-cb1d3e98-580f-4426-a05f-33a38764fad3 button');\n",
              "      quickchartButtonEl.style.display =\n",
              "        google.colab.kernel.accessAllowed ? 'block' : 'none';\n",
              "    })();\n",
              "  </script>\n",
              "</div>\n",
              "\n",
              "    </div>\n",
              "  </div>\n"
            ],
            "application/vnd.google.colaboratory.intrinsic+json": {
              "type": "dataframe",
              "summary": "{\n  \"name\": \"X\",\n  \"rows\": 11,\n  \"fields\": [\n    {\n      \"column\": \"num_call_failures\",\n      \"properties\": {\n        \"dtype\": \"boolean\",\n        \"num_unique_values\": 2,\n        \"samples\": [\n          false,\n          true\n        ],\n        \"semantic_type\": \"\",\n        \"description\": \"\"\n      }\n    },\n    {\n      \"column\": \"has_complaint\",\n      \"properties\": {\n        \"dtype\": \"boolean\",\n        \"num_unique_values\": 2,\n        \"samples\": [\n          true,\n          false\n        ],\n        \"semantic_type\": \"\",\n        \"description\": \"\"\n      }\n    },\n    {\n      \"column\": \"sub_length_months\",\n      \"properties\": {\n        \"dtype\": \"boolean\",\n        \"num_unique_values\": 2,\n        \"samples\": [\n          true,\n          false\n        ],\n        \"semantic_type\": \"\",\n        \"description\": \"\"\n      }\n    },\n    {\n      \"column\": \"charge_tier\",\n      \"properties\": {\n        \"dtype\": \"boolean\",\n        \"num_unique_values\": 2,\n        \"samples\": [\n          true,\n          false\n        ],\n        \"semantic_type\": \"\",\n        \"description\": \"\"\n      }\n    },\n    {\n      \"column\": \"total_call_seconds\",\n      \"properties\": {\n        \"dtype\": \"boolean\",\n        \"num_unique_values\": 2,\n        \"samples\": [\n          true,\n          false\n        ],\n        \"semantic_type\": \"\",\n        \"description\": \"\"\n      }\n    },\n    {\n      \"column\": \"total_num_calls\",\n      \"properties\": {\n        \"dtype\": \"boolean\",\n        \"num_unique_values\": 2,\n        \"samples\": [\n          true,\n          false\n        ],\n        \"semantic_type\": \"\",\n        \"description\": \"\"\n      }\n    },\n    {\n      \"column\": \"total_num_sms\",\n      \"properties\": {\n        \"dtype\": \"boolean\",\n        \"num_unique_values\": 2,\n        \"samples\": [\n          true,\n          false\n        ],\n        \"semantic_type\": \"\",\n        \"description\": \"\"\n      }\n    },\n    {\n      \"column\": \"distinct_call_num\",\n      \"properties\": {\n        \"dtype\": \"boolean\",\n        \"num_unique_values\": 2,\n        \"samples\": [\n          true,\n          false\n        ],\n        \"semantic_type\": \"\",\n        \"description\": \"\"\n      }\n    },\n    {\n      \"column\": \"type_plan\",\n      \"properties\": {\n        \"dtype\": \"boolean\",\n        \"num_unique_values\": 2,\n        \"samples\": [\n          true,\n          false\n        ],\n        \"semantic_type\": \"\",\n        \"description\": \"\"\n      }\n    },\n    {\n      \"column\": \"age\",\n      \"properties\": {\n        \"dtype\": \"boolean\",\n        \"num_unique_values\": 2,\n        \"samples\": [\n          true,\n          false\n        ],\n        \"semantic_type\": \"\",\n        \"description\": \"\"\n      }\n    },\n    {\n      \"column\": \"customer_value\",\n      \"properties\": {\n        \"dtype\": \"boolean\",\n        \"num_unique_values\": 2,\n        \"samples\": [\n          true,\n          false\n        ],\n        \"semantic_type\": \"\",\n        \"description\": \"\"\n      }\n    }\n  ]\n}"
            }
          },
          "metadata": {},
          "execution_count": 12
        }
      ]
    },
    {
      "cell_type": "markdown",
      "source": [
        "Using a threshold of 0.7, we see that the total number of seconds calling is highly correlated with the total number of calls, which, itself, is highly correlated with the quantity of different numbers called by a client. Because of that, the columns with the total number of seconds calling and with the quantity of different numbers called will be removed to reduce data redundancy"
      ],
      "metadata": {
        "id": "YY1wPeh1_hwj"
      }
    },
    {
      "cell_type": "code",
      "source": [
        "X = X.drop(['total_call_seconds', 'distinct_call_num'], axis=1)"
      ],
      "metadata": {
        "id": "fwCdGR_CA_2P"
      },
      "execution_count": 13,
      "outputs": []
    },
    {
      "cell_type": "markdown",
      "source": [
        "At last, it's interesting to analyze if one plan type has more churn than the other, which **could** indicate that clients of one plan are more likely to churn than clients of the other plan"
      ],
      "metadata": {
        "id": "0iS0vKq8yfJu"
      }
    },
    {
      "cell_type": "code",
      "source": [
        "# Creating dataframe with plan type and churn indicator\n",
        "churn_by_plan_type = pd.DataFrame({'type_plan': X['type_plan'], 'churn': y['Churn']})\n",
        "\n",
        "# Grouping by plan type\n",
        "grouped_churn = churn_by_plan_type.groupby('type_plan').sum()\n",
        "\n",
        "# Total of clients in each plan type\n",
        "total_plan_1 = X[X['type_plan'] == 1].shape[0]\n",
        "total_plan_2 = X[X['type_plan'] == 2].shape[0]\n",
        "\n",
        "# Creating a column with total number of clients per plan\n",
        "grouped_churn['total_clients'] = [total_plan_1, total_plan_2]\n",
        "\n",
        "# Creating column with % churn in each plan\n",
        "grouped_churn['perc_churn'] = grouped_churn['churn']/grouped_churn['total_clients']\n",
        "\n",
        "grouped_churn"
      ],
      "metadata": {
        "colab": {
          "base_uri": "https://localhost:8080/",
          "height": 143
        },
        "id": "IH7xzAjsy1Xq",
        "outputId": "7ec880d2-6198-4da2-e4aa-e091d064de5e"
      },
      "execution_count": 14,
      "outputs": [
        {
          "output_type": "execute_result",
          "data": {
            "text/plain": [
              "           churn  total_clients  perc_churn\n",
              "type_plan                                  \n",
              "1            489           2905     0.16833\n",
              "2              6            245     0.02449"
            ],
            "text/html": [
              "\n",
              "  <div id=\"df-a24eec7f-301c-4b7f-b116-fb2be835763f\" class=\"colab-df-container\">\n",
              "    <div>\n",
              "<style scoped>\n",
              "    .dataframe tbody tr th:only-of-type {\n",
              "        vertical-align: middle;\n",
              "    }\n",
              "\n",
              "    .dataframe tbody tr th {\n",
              "        vertical-align: top;\n",
              "    }\n",
              "\n",
              "    .dataframe thead th {\n",
              "        text-align: right;\n",
              "    }\n",
              "</style>\n",
              "<table border=\"1\" class=\"dataframe\">\n",
              "  <thead>\n",
              "    <tr style=\"text-align: right;\">\n",
              "      <th></th>\n",
              "      <th>churn</th>\n",
              "      <th>total_clients</th>\n",
              "      <th>perc_churn</th>\n",
              "    </tr>\n",
              "    <tr>\n",
              "      <th>type_plan</th>\n",
              "      <th></th>\n",
              "      <th></th>\n",
              "      <th></th>\n",
              "    </tr>\n",
              "  </thead>\n",
              "  <tbody>\n",
              "    <tr>\n",
              "      <th>1</th>\n",
              "      <td>489</td>\n",
              "      <td>2905</td>\n",
              "      <td>0.16833</td>\n",
              "    </tr>\n",
              "    <tr>\n",
              "      <th>2</th>\n",
              "      <td>6</td>\n",
              "      <td>245</td>\n",
              "      <td>0.02449</td>\n",
              "    </tr>\n",
              "  </tbody>\n",
              "</table>\n",
              "</div>\n",
              "    <div class=\"colab-df-buttons\">\n",
              "\n",
              "  <div class=\"colab-df-container\">\n",
              "    <button class=\"colab-df-convert\" onclick=\"convertToInteractive('df-a24eec7f-301c-4b7f-b116-fb2be835763f')\"\n",
              "            title=\"Convert this dataframe to an interactive table.\"\n",
              "            style=\"display:none;\">\n",
              "\n",
              "  <svg xmlns=\"http://www.w3.org/2000/svg\" height=\"24px\" viewBox=\"0 -960 960 960\">\n",
              "    <path d=\"M120-120v-720h720v720H120Zm60-500h600v-160H180v160Zm220 220h160v-160H400v160Zm0 220h160v-160H400v160ZM180-400h160v-160H180v160Zm440 0h160v-160H620v160ZM180-180h160v-160H180v160Zm440 0h160v-160H620v160Z\"/>\n",
              "  </svg>\n",
              "    </button>\n",
              "\n",
              "  <style>\n",
              "    .colab-df-container {\n",
              "      display:flex;\n",
              "      gap: 12px;\n",
              "    }\n",
              "\n",
              "    .colab-df-convert {\n",
              "      background-color: #E8F0FE;\n",
              "      border: none;\n",
              "      border-radius: 50%;\n",
              "      cursor: pointer;\n",
              "      display: none;\n",
              "      fill: #1967D2;\n",
              "      height: 32px;\n",
              "      padding: 0 0 0 0;\n",
              "      width: 32px;\n",
              "    }\n",
              "\n",
              "    .colab-df-convert:hover {\n",
              "      background-color: #E2EBFA;\n",
              "      box-shadow: 0px 1px 2px rgba(60, 64, 67, 0.3), 0px 1px 3px 1px rgba(60, 64, 67, 0.15);\n",
              "      fill: #174EA6;\n",
              "    }\n",
              "\n",
              "    .colab-df-buttons div {\n",
              "      margin-bottom: 4px;\n",
              "    }\n",
              "\n",
              "    [theme=dark] .colab-df-convert {\n",
              "      background-color: #3B4455;\n",
              "      fill: #D2E3FC;\n",
              "    }\n",
              "\n",
              "    [theme=dark] .colab-df-convert:hover {\n",
              "      background-color: #434B5C;\n",
              "      box-shadow: 0px 1px 3px 1px rgba(0, 0, 0, 0.15);\n",
              "      filter: drop-shadow(0px 1px 2px rgba(0, 0, 0, 0.3));\n",
              "      fill: #FFFFFF;\n",
              "    }\n",
              "  </style>\n",
              "\n",
              "    <script>\n",
              "      const buttonEl =\n",
              "        document.querySelector('#df-a24eec7f-301c-4b7f-b116-fb2be835763f button.colab-df-convert');\n",
              "      buttonEl.style.display =\n",
              "        google.colab.kernel.accessAllowed ? 'block' : 'none';\n",
              "\n",
              "      async function convertToInteractive(key) {\n",
              "        const element = document.querySelector('#df-a24eec7f-301c-4b7f-b116-fb2be835763f');\n",
              "        const dataTable =\n",
              "          await google.colab.kernel.invokeFunction('convertToInteractive',\n",
              "                                                    [key], {});\n",
              "        if (!dataTable) return;\n",
              "\n",
              "        const docLinkHtml = 'Like what you see? Visit the ' +\n",
              "          '<a target=\"_blank\" href=https://colab.research.google.com/notebooks/data_table.ipynb>data table notebook</a>'\n",
              "          + ' to learn more about interactive tables.';\n",
              "        element.innerHTML = '';\n",
              "        dataTable['output_type'] = 'display_data';\n",
              "        await google.colab.output.renderOutput(dataTable, element);\n",
              "        const docLink = document.createElement('div');\n",
              "        docLink.innerHTML = docLinkHtml;\n",
              "        element.appendChild(docLink);\n",
              "      }\n",
              "    </script>\n",
              "  </div>\n",
              "\n",
              "\n",
              "<div id=\"df-c9f57a22-f5bc-4ba5-aad6-22e0423bcada\">\n",
              "  <button class=\"colab-df-quickchart\" onclick=\"quickchart('df-c9f57a22-f5bc-4ba5-aad6-22e0423bcada')\"\n",
              "            title=\"Suggest charts\"\n",
              "            style=\"display:none;\">\n",
              "\n",
              "<svg xmlns=\"http://www.w3.org/2000/svg\" height=\"24px\"viewBox=\"0 0 24 24\"\n",
              "     width=\"24px\">\n",
              "    <g>\n",
              "        <path d=\"M19 3H5c-1.1 0-2 .9-2 2v14c0 1.1.9 2 2 2h14c1.1 0 2-.9 2-2V5c0-1.1-.9-2-2-2zM9 17H7v-7h2v7zm4 0h-2V7h2v10zm4 0h-2v-4h2v4z\"/>\n",
              "    </g>\n",
              "</svg>\n",
              "  </button>\n",
              "\n",
              "<style>\n",
              "  .colab-df-quickchart {\n",
              "      --bg-color: #E8F0FE;\n",
              "      --fill-color: #1967D2;\n",
              "      --hover-bg-color: #E2EBFA;\n",
              "      --hover-fill-color: #174EA6;\n",
              "      --disabled-fill-color: #AAA;\n",
              "      --disabled-bg-color: #DDD;\n",
              "  }\n",
              "\n",
              "  [theme=dark] .colab-df-quickchart {\n",
              "      --bg-color: #3B4455;\n",
              "      --fill-color: #D2E3FC;\n",
              "      --hover-bg-color: #434B5C;\n",
              "      --hover-fill-color: #FFFFFF;\n",
              "      --disabled-bg-color: #3B4455;\n",
              "      --disabled-fill-color: #666;\n",
              "  }\n",
              "\n",
              "  .colab-df-quickchart {\n",
              "    background-color: var(--bg-color);\n",
              "    border: none;\n",
              "    border-radius: 50%;\n",
              "    cursor: pointer;\n",
              "    display: none;\n",
              "    fill: var(--fill-color);\n",
              "    height: 32px;\n",
              "    padding: 0;\n",
              "    width: 32px;\n",
              "  }\n",
              "\n",
              "  .colab-df-quickchart:hover {\n",
              "    background-color: var(--hover-bg-color);\n",
              "    box-shadow: 0 1px 2px rgba(60, 64, 67, 0.3), 0 1px 3px 1px rgba(60, 64, 67, 0.15);\n",
              "    fill: var(--button-hover-fill-color);\n",
              "  }\n",
              "\n",
              "  .colab-df-quickchart-complete:disabled,\n",
              "  .colab-df-quickchart-complete:disabled:hover {\n",
              "    background-color: var(--disabled-bg-color);\n",
              "    fill: var(--disabled-fill-color);\n",
              "    box-shadow: none;\n",
              "  }\n",
              "\n",
              "  .colab-df-spinner {\n",
              "    border: 2px solid var(--fill-color);\n",
              "    border-color: transparent;\n",
              "    border-bottom-color: var(--fill-color);\n",
              "    animation:\n",
              "      spin 1s steps(1) infinite;\n",
              "  }\n",
              "\n",
              "  @keyframes spin {\n",
              "    0% {\n",
              "      border-color: transparent;\n",
              "      border-bottom-color: var(--fill-color);\n",
              "      border-left-color: var(--fill-color);\n",
              "    }\n",
              "    20% {\n",
              "      border-color: transparent;\n",
              "      border-left-color: var(--fill-color);\n",
              "      border-top-color: var(--fill-color);\n",
              "    }\n",
              "    30% {\n",
              "      border-color: transparent;\n",
              "      border-left-color: var(--fill-color);\n",
              "      border-top-color: var(--fill-color);\n",
              "      border-right-color: var(--fill-color);\n",
              "    }\n",
              "    40% {\n",
              "      border-color: transparent;\n",
              "      border-right-color: var(--fill-color);\n",
              "      border-top-color: var(--fill-color);\n",
              "    }\n",
              "    60% {\n",
              "      border-color: transparent;\n",
              "      border-right-color: var(--fill-color);\n",
              "    }\n",
              "    80% {\n",
              "      border-color: transparent;\n",
              "      border-right-color: var(--fill-color);\n",
              "      border-bottom-color: var(--fill-color);\n",
              "    }\n",
              "    90% {\n",
              "      border-color: transparent;\n",
              "      border-bottom-color: var(--fill-color);\n",
              "    }\n",
              "  }\n",
              "</style>\n",
              "\n",
              "  <script>\n",
              "    async function quickchart(key) {\n",
              "      const quickchartButtonEl =\n",
              "        document.querySelector('#' + key + ' button');\n",
              "      quickchartButtonEl.disabled = true;  // To prevent multiple clicks.\n",
              "      quickchartButtonEl.classList.add('colab-df-spinner');\n",
              "      try {\n",
              "        const charts = await google.colab.kernel.invokeFunction(\n",
              "            'suggestCharts', [key], {});\n",
              "      } catch (error) {\n",
              "        console.error('Error during call to suggestCharts:', error);\n",
              "      }\n",
              "      quickchartButtonEl.classList.remove('colab-df-spinner');\n",
              "      quickchartButtonEl.classList.add('colab-df-quickchart-complete');\n",
              "    }\n",
              "    (() => {\n",
              "      let quickchartButtonEl =\n",
              "        document.querySelector('#df-c9f57a22-f5bc-4ba5-aad6-22e0423bcada button');\n",
              "      quickchartButtonEl.style.display =\n",
              "        google.colab.kernel.accessAllowed ? 'block' : 'none';\n",
              "    })();\n",
              "  </script>\n",
              "</div>\n",
              "\n",
              "  <div id=\"id_494f4612-04ce-4d8b-aa43-d2a25f8d381d\">\n",
              "    <style>\n",
              "      .colab-df-generate {\n",
              "        background-color: #E8F0FE;\n",
              "        border: none;\n",
              "        border-radius: 50%;\n",
              "        cursor: pointer;\n",
              "        display: none;\n",
              "        fill: #1967D2;\n",
              "        height: 32px;\n",
              "        padding: 0 0 0 0;\n",
              "        width: 32px;\n",
              "      }\n",
              "\n",
              "      .colab-df-generate:hover {\n",
              "        background-color: #E2EBFA;\n",
              "        box-shadow: 0px 1px 2px rgba(60, 64, 67, 0.3), 0px 1px 3px 1px rgba(60, 64, 67, 0.15);\n",
              "        fill: #174EA6;\n",
              "      }\n",
              "\n",
              "      [theme=dark] .colab-df-generate {\n",
              "        background-color: #3B4455;\n",
              "        fill: #D2E3FC;\n",
              "      }\n",
              "\n",
              "      [theme=dark] .colab-df-generate:hover {\n",
              "        background-color: #434B5C;\n",
              "        box-shadow: 0px 1px 3px 1px rgba(0, 0, 0, 0.15);\n",
              "        filter: drop-shadow(0px 1px 2px rgba(0, 0, 0, 0.3));\n",
              "        fill: #FFFFFF;\n",
              "      }\n",
              "    </style>\n",
              "    <button class=\"colab-df-generate\" onclick=\"generateWithVariable('grouped_churn')\"\n",
              "            title=\"Generate code using this dataframe.\"\n",
              "            style=\"display:none;\">\n",
              "\n",
              "  <svg xmlns=\"http://www.w3.org/2000/svg\" height=\"24px\"viewBox=\"0 0 24 24\"\n",
              "       width=\"24px\">\n",
              "    <path d=\"M7,19H8.4L18.45,9,17,7.55,7,17.6ZM5,21V16.75L18.45,3.32a2,2,0,0,1,2.83,0l1.4,1.43a1.91,1.91,0,0,1,.58,1.4,1.91,1.91,0,0,1-.58,1.4L9.25,21ZM18.45,9,17,7.55Zm-12,3A5.31,5.31,0,0,0,4.9,8.1,5.31,5.31,0,0,0,1,6.5,5.31,5.31,0,0,0,4.9,4.9,5.31,5.31,0,0,0,6.5,1,5.31,5.31,0,0,0,8.1,4.9,5.31,5.31,0,0,0,12,6.5,5.46,5.46,0,0,0,6.5,12Z\"/>\n",
              "  </svg>\n",
              "    </button>\n",
              "    <script>\n",
              "      (() => {\n",
              "      const buttonEl =\n",
              "        document.querySelector('#id_494f4612-04ce-4d8b-aa43-d2a25f8d381d button.colab-df-generate');\n",
              "      buttonEl.style.display =\n",
              "        google.colab.kernel.accessAllowed ? 'block' : 'none';\n",
              "\n",
              "      buttonEl.onclick = () => {\n",
              "        google.colab.notebook.generateWithVariable('grouped_churn');\n",
              "      }\n",
              "      })();\n",
              "    </script>\n",
              "  </div>\n",
              "\n",
              "    </div>\n",
              "  </div>\n"
            ],
            "application/vnd.google.colaboratory.intrinsic+json": {
              "type": "dataframe",
              "variable_name": "grouped_churn",
              "summary": "{\n  \"name\": \"grouped_churn\",\n  \"rows\": 2,\n  \"fields\": [\n    {\n      \"column\": \"type_plan\",\n      \"properties\": {\n        \"dtype\": \"number\",\n        \"std\": 0,\n        \"min\": 1,\n        \"max\": 2,\n        \"num_unique_values\": 2,\n        \"samples\": [\n          2,\n          1\n        ],\n        \"semantic_type\": \"\",\n        \"description\": \"\"\n      }\n    },\n    {\n      \"column\": \"churn\",\n      \"properties\": {\n        \"dtype\": \"number\",\n        \"std\": 341,\n        \"min\": 6,\n        \"max\": 489,\n        \"num_unique_values\": 2,\n        \"samples\": [\n          6,\n          489\n        ],\n        \"semantic_type\": \"\",\n        \"description\": \"\"\n      }\n    },\n    {\n      \"column\": \"total_clients\",\n      \"properties\": {\n        \"dtype\": \"number\",\n        \"std\": 1880,\n        \"min\": 245,\n        \"max\": 2905,\n        \"num_unique_values\": 2,\n        \"samples\": [\n          245,\n          2905\n        ],\n        \"semantic_type\": \"\",\n        \"description\": \"\"\n      }\n    },\n    {\n      \"column\": \"perc_churn\",\n      \"properties\": {\n        \"dtype\": \"number\",\n        \"std\": 0.10171071231721915,\n        \"min\": 0.024489795918367346,\n        \"max\": 0.16833046471600688,\n        \"num_unique_values\": 2,\n        \"samples\": [\n          0.024489795918367346,\n          0.16833046471600688\n        ],\n        \"semantic_type\": \"\",\n        \"description\": \"\"\n      }\n    }\n  ]\n}"
            }
          },
          "metadata": {},
          "execution_count": 14
        }
      ]
    },
    {
      "cell_type": "markdown",
      "source": [
        "From the output above, it's notable that the churns are concentrated on plan type 1. However, this information needs to be used **with caution**, since there are a **lot less** clients from plan type 2 than from plan type 1 and that could influence the churn participation in each plan"
      ],
      "metadata": {
        "id": "GHNrlqGm4v3H"
      }
    },
    {
      "cell_type": "markdown",
      "source": [
        "We also see that the number of clients who churned is significantly lower than the number of clients that didn't. This is good news for our company but could impact negatively our model's prediction, since it can have a **bias** to predict that more clientes **won't** churn than the reality. We'll train a model both in as-is state and in a artificially balanced dataset to identify which performs better and should be chosen"
      ],
      "metadata": {
        "id": "7Uq0LnF9Hp6_"
      }
    },
    {
      "cell_type": "markdown",
      "source": [
        "# Data Preprocessing"
      ],
      "metadata": {
        "id": "DJ5hlnVfEtp6"
      }
    },
    {
      "cell_type": "code",
      "source": [
        "# splitting data into training and test sets\n",
        "X_train, X_test, y_train, y_test = train_test_split(X.values, y.values, random_state=123)"
      ],
      "metadata": {
        "id": "iXX2NKq4FAST"
      },
      "execution_count": 15,
      "outputs": []
    },
    {
      "cell_type": "code",
      "source": [
        "# instantiating the scaler\n",
        "scaler = StandardScaler()\n",
        "\n",
        "# training the scaler and transforming training data\n",
        "X_train_scaled = scaler.fit_transform(X_train)\n",
        "\n",
        "# standardizing test data\n",
        "X_test_scaled = scaler.transform(X_test)"
      ],
      "metadata": {
        "id": "yJwgKnJYFcpa"
      },
      "execution_count": 16,
      "outputs": []
    },
    {
      "cell_type": "markdown",
      "source": [
        "# Training and comparing machine learning models performance"
      ],
      "metadata": {
        "id": "V9Ms59zGGAi6"
      }
    },
    {
      "cell_type": "markdown",
      "source": [
        "Since the problem at hand is to predict whether a client, given a set of features, is going to churn or not, we are dealing with a classification problem. We'll compare the performance of two machine learning models: **logistic regression** and **random forests**\n",
        "\n",
        "Two of the main reasons we'll compare these models:\n",
        "*   they capture more effectively different types of relations between features (linear and non-linear, respectively)\n",
        "*   they have training parameters to diminish the effects of class (labels) imbalance\n",
        "\n",
        "We'll use F1-score as our performance metric and we'll use a 5-fold cross-validation for more robust, comparable and realistc performance assessment"
      ],
      "metadata": {
        "id": "LHcfG6FZ5-Jm"
      }
    },
    {
      "cell_type": "code",
      "source": [
        "# Instantiating KFold object\n",
        "kf = KFold(n_splits=5, shuffle=True, random_state=123)"
      ],
      "metadata": {
        "id": "SU2K5WBeLaAF"
      },
      "execution_count": 17,
      "outputs": []
    },
    {
      "cell_type": "code",
      "source": [
        "# Logistic Regression\n",
        "logreg = LogisticRegression(random_state=123, class_weight='balanced')\n",
        "logreg_score = cross_val_score(logreg, X_train_scaled, y_train.ravel(), cv=kf, scoring='f1')\n",
        "logreg_score.mean()"
      ],
      "metadata": {
        "colab": {
          "base_uri": "https://localhost:8080/"
        },
        "id": "EI0F3wgEGEjO",
        "outputId": "03e94d09-1fcd-405c-a365-c2ea315f6982"
      },
      "execution_count": 18,
      "outputs": [
        {
          "output_type": "execute_result",
          "data": {
            "text/plain": [
              "0.5887266727966164"
            ]
          },
          "metadata": {},
          "execution_count": 18
        }
      ]
    },
    {
      "cell_type": "code",
      "source": [
        "# Random Forest\n",
        "random_forest = RandomForestClassifier(random_state=123, class_weight='balanced')\n",
        "random_forest_score = cross_val_score(random_forest, X_train_scaled, y_train.ravel(), cv=kf, scoring='f1')\n",
        "random_forest_score.mean()"
      ],
      "metadata": {
        "colab": {
          "base_uri": "https://localhost:8080/"
        },
        "id": "zBjhxAjo48WA",
        "outputId": "9a8578c8-4bd3-4dec-945f-42bc3924816f"
      },
      "execution_count": 19,
      "outputs": [
        {
          "output_type": "execute_result",
          "data": {
            "text/plain": [
              "0.8049218621278944"
            ]
          },
          "metadata": {},
          "execution_count": 19
        }
      ]
    },
    {
      "cell_type": "markdown",
      "source": [
        "Comparing the mean f1-score of both models, it's clear that the random forest model performed better. Therefore, it'll be our choice for the final model"
      ],
      "metadata": {
        "id": "LPP7LrQINu_8"
      }
    },
    {
      "cell_type": "markdown",
      "source": [
        "Having chosen the final model architecture, we move on to analysing the impact of class labels imbalance on the model's performance. To accomplish that, we'll create a new, artificially **balanced** dataset, train a random forest model using 5-fold cross-validation and comparing its mean f1-score to the one obtained earlier with the imbalanced dataset"
      ],
      "metadata": {
        "id": "lKpA8YRnyZcc"
      }
    },
    {
      "cell_type": "code",
      "source": [
        "# Creating an instance of a SMOTEENN object\n",
        "balancer = SMOTEENN(random_state=123)\n",
        "\n",
        "# Creating a balanced training dataset\n",
        "X_train_balanced, y_train_balanced = balancer.fit_resample(X_train_scaled, y_train)\n",
        "\n",
        "# Calculating f1-scores for each fold\n",
        "balanced_dataset_score = cross_val_score(random_forest, X_train_balanced, y_train_balanced.ravel(), cv=kf, scoring='f1')\n",
        "balanced_dataset_score.mean()"
      ],
      "metadata": {
        "colab": {
          "base_uri": "https://localhost:8080/"
        },
        "id": "2Q2PSASszaFi",
        "outputId": "0c59672a-ea97-4a36-8708-8b7a79e30085"
      },
      "execution_count": 20,
      "outputs": [
        {
          "output_type": "execute_result",
          "data": {
            "text/plain": [
              "0.9871289431373385"
            ]
          },
          "metadata": {},
          "execution_count": 20
        }
      ]
    },
    {
      "cell_type": "markdown",
      "source": [
        "From the output above, we conclude that, indeed, balancing the training dataset was **significantly** beneficial to our model's performance, going from a 0.80 f1-score in the imbalanced dataset to a 0.99 f1-score in the balanced dataset"
      ],
      "metadata": {
        "id": "CSkhzELS3Hyz"
      }
    },
    {
      "cell_type": "markdown",
      "source": [
        "## Final Model Development"
      ],
      "metadata": {
        "id": "42ihk4Kl4To_"
      }
    },
    {
      "cell_type": "markdown",
      "source": [
        "At last, we'll have our final model at the end of this section! We'll instantiate and train a random forest model using the balanced training dataset, evaluate its performance on the testing dataset and create a prediction function that takes clients' features and generates a prediction of churn or not churn"
      ],
      "metadata": {
        "id": "JlcKmVO94XQh"
      }
    },
    {
      "cell_type": "code",
      "source": [
        "# Training our random forest model using the balanced training dataset\n",
        "random_forest.fit(X_train_balanced, y_train_balanced)\n",
        "\n",
        "# Generating model's predictions for test data\n",
        "test_predictions = random_forest.predict(X_test_scaled)\n",
        "\n",
        "# Calculating f1_score and printing it\n",
        "score = f1_score(y_test, test_predictions)\n",
        "score"
      ],
      "metadata": {
        "colab": {
          "base_uri": "https://localhost:8080/"
        },
        "id": "tEzzzva_5QkG",
        "outputId": "5533cd80-cc9a-4fd0-9ead-f8906000905f"
      },
      "execution_count": 24,
      "outputs": [
        {
          "output_type": "execute_result",
          "data": {
            "text/plain": [
              "0.8013468013468014"
            ]
          },
          "metadata": {},
          "execution_count": 24
        }
      ]
    },
    {
      "cell_type": "code",
      "source": [
        "# Creating the function that takes predicts if a customer will churn or not\n",
        "def predicting_churn(input_dict):\n",
        "    \"\"\"\n",
        "    This function takes a dictionary as input (features: values) and generates a prediction of whether the customer will churn or not.\n",
        "    A 0 indicates no churn, whereas a 1 indicates churn\n",
        "\n",
        "    Notice that the dictionary must be in the following format to be accepted by this function:\n",
        "    {'num_call_failures': [val_1], 'has_complaints': [val_2], 'sub_length_months': [val_3],\n",
        "    'charge_tier': [val_4], 'total_num_calls': [val_5], 'total_num_sms': [val_6],\n",
        "    'type_plan': [val_7], 'age': [val_8], 'customer_value': [val_9]}\n",
        "\n",
        "    val_2 must be either 0 or 1, val_4 must be between 0 and 9 and val_7 must be either 1 or 2\n",
        "    \"\"\"\n",
        "    if list(input_dict.keys()) != list(X.columns):\n",
        "        return 'The input data was sent incorrectly. Send the values in correct order'\n",
        "    else:\n",
        "        input_df = pd.DataFrame(input_dict)\n",
        "        scaled_input_df = scaler.transform(input_df.values)\n",
        "        prediction = random_forest.predict(scaled_input_df)\n",
        "        return prediction"
      ],
      "metadata": {
        "id": "iA4S3dCX7QAS"
      },
      "execution_count": 25,
      "outputs": []
    },
    {
      "cell_type": "code",
      "source": [
        "# Making a prediction\n",
        "predicting_churn({'num_call_failures': [5], 'has_complaint': [0], 'sub_length_months': [15],\n",
        "                  'charge_tier': [7], 'total_num_calls': [50], 'total_num_sms': [20],\n",
        "                  'type_plan': [1], 'age': [45], 'customer_value': [50000]})"
      ],
      "metadata": {
        "colab": {
          "base_uri": "https://localhost:8080/",
          "height": 35
        },
        "id": "n_jlvJ_z83iG",
        "outputId": "5a71c3ee-b82a-4986-d8ec-872d2d1fbbe6"
      },
      "execution_count": 27,
      "outputs": [
        {
          "output_type": "execute_result",
          "data": {
            "text/plain": [
              "'not churn'"
            ],
            "application/vnd.google.colaboratory.intrinsic+json": {
              "type": "string"
            }
          },
          "metadata": {},
          "execution_count": 27
        }
      ]
    }
  ]
}